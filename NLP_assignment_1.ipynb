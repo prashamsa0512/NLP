{
  "nbformat": 4,
  "nbformat_minor": 0,
  "metadata": {
    "colab": {
      "provenance": []
    },
    "kernelspec": {
      "name": "python3",
      "display_name": "Python 3"
    },
    "language_info": {
      "name": "python"
    }
  },
  "cells": [
    {
      "cell_type": "code",
      "execution_count": null,
      "metadata": {
        "colab": {
          "base_uri": "https://localhost:8080/"
        },
        "id": "qd_Q2ge5QLjE",
        "outputId": "164c320f-6d24-4902-cd3f-1427b2ae7cca"
      },
      "outputs": [
        {
          "output_type": "stream",
          "name": "stdout",
          "text": [
            "Missing values in each column:\n",
            "Name      1\n",
            "Age       2\n",
            "Gender    1\n",
            "City      0\n",
            "dtype: int64\n",
            "Number of duplicate rows: 1\n"
          ]
        }
      ],
      "source": [
        "import pandas as pd\n",
        "#ambiguity removal\n",
        "#create a simple dataset\n",
        "data={\n",
        "     'Name':['Alice','Bob','Charlie','David','Eva','Frank','Alice',None],\n",
        "     'Age':[25,None,23,35,None,45,25,29],\n",
        "     'Gender':['F','M','M','M',None,'M','F','F'],\n",
        "     'City'  :['New York','Los Angles','New york','Houston','Los Angles','Houston','New York','New York']\n",
        "\n",
        "}\n",
        "df=pd.DataFrame(data)\n",
        "#display sample dataset\n",
        "df.head(10)\n",
        "# check the missing values\n",
        "print(\"Missing values in each column:\")\n",
        "print(df.isnull ().sum())\n",
        "df_cleaned=df.dropna()\n",
        "#Fill missing values\n",
        "# For example, fill missing 'Age' with the mean age, and 'Name' with a placeholder\n",
        "# df['Age'] = df['Age'].fillna(df['Age'].mean())\n",
        "# df['Name'] = df['Name'].fillna('Unknown')\n",
        "\n",
        "# Display the cleaned data after handling missing values\n",
        "df_cleaned.head(10)\n",
        "# Check for duplicates\n",
        "print(\"Number of duplicate rows:\", df_cleaned.duplicated().sum())\n",
        "\n",
        "# Remove duplicate rows\n",
        "df_cleaned = df_cleaned.drop_duplicates()\n",
        "\n",
        "# Display the data after removing duplicates\n",
        "df_cleaned.head(10)\n",
        "# Standardize text data converting to lowercase\n",
        "df_cleaned['Gender'] = df_cleaned['Gender'].str.lower()\n",
        "\n",
        "# Correcting inconsistent data, e.g., standardizing 'f' and 'm'\n",
        "df_cleaned['Gender'] = df_cleaned['Gender'].replace({'f': 'Female', 'm': 'Male'})\n",
        "\n",
        "# Display the cleaned data after standardization\n",
        "df_cleaned.head(10)\n",
        "# No irrelevant columns in this case, but here's how you'd drop them if needed:\n",
        "# df_cleaned = df_cleaned.drop(['Irrelevant_Column'], axis=1)\n",
        "\n",
        "# Display the final cleaned data\n",
        "df_cleaned.head(10)\n",
        "# Save the cleaned dataset\n",
        "cleaned_file_path = 'cleaned_sample_dataset.csv'\n",
        "df_cleaned.to_csv(cleaned_file_path,index=False)\n"
      ]
    },
    {
      "cell_type": "code",
      "source": [
        "# Segmentation\n",
        "import nltk\n",
        "from nltk.tokenize import word_tokenize, sent_tokenize\n",
        "\n",
        "# Download necessary NLTK data\n",
        "nltk.download('punkt')\n",
        "import pandas as pd\n",
        "\n",
        "# Create a sample dataset with text data\n",
        "data = {\n",
        "    'Text': [\n",
        "        \"Hello! My name is Alice. I love programming.\",\n",
        "        \"Python is a great programming language. It's widely used in data science.\",\n",
        "        \"This is an example of text segmentation.\",\n",
        "        \"NLTK is a useful library for text processing.\"\n",
        "    ]\n",
        "}\n",
        "\n",
        "df = pd.DataFrame(data)\n",
        "\n",
        "# Display the dataset\n",
        "df.head()\n",
        "# Apply sentence segmentation\n",
        "df['Sentences'] = df['Text'].apply(sent_tokenize)\n",
        "\n",
        "# Display the segmented sentences\n",
        "df[['Text', 'Sentences']].head()\n",
        "# Apply word segmentation\n",
        "df['Words'] = df['Text'].apply(word_tokenize)\n",
        "\n",
        "# Display the segmented words\n",
        "df[['Text', 'Words']].head()\n",
        "# Save the segmented dataset\n",
        "segmented_file_path = 'segmented_text_dataset.csv'\n",
        "df.to_csv(segmented_file_path, index=False)\n",
        "from google.colab import files\n",
        "\n",
        "files.download(segmented_file_path)"
      ],
      "metadata": {
        "colab": {
          "base_uri": "https://localhost:8080/",
          "height": 52
        },
        "id": "9dA0m_RkXNTp",
        "outputId": "a6e54030-af83-4da1-95b3-788c347f6f29"
      },
      "execution_count": null,
      "outputs": [
        {
          "output_type": "stream",
          "name": "stderr",
          "text": [
            "[nltk_data] Downloading package punkt to /root/nltk_data...\n",
            "[nltk_data]   Unzipping tokenizers/punkt.zip.\n"
          ]
        },
        {
          "output_type": "display_data",
          "data": {
            "text/plain": [
              "<IPython.core.display.Javascript object>"
            ],
            "application/javascript": [
              "\n",
              "    async function download(id, filename, size) {\n",
              "      if (!google.colab.kernel.accessAllowed) {\n",
              "        return;\n",
              "      }\n",
              "      const div = document.createElement('div');\n",
              "      const label = document.createElement('label');\n",
              "      label.textContent = `Downloading \"${filename}\": `;\n",
              "      div.appendChild(label);\n",
              "      const progress = document.createElement('progress');\n",
              "      progress.max = size;\n",
              "      div.appendChild(progress);\n",
              "      document.body.appendChild(div);\n",
              "\n",
              "      const buffers = [];\n",
              "      let downloaded = 0;\n",
              "\n",
              "      const channel = await google.colab.kernel.comms.open(id);\n",
              "      // Send a message to notify the kernel that we're ready.\n",
              "      channel.send({})\n",
              "\n",
              "      for await (const message of channel.messages) {\n",
              "        // Send a message to notify the kernel that we're ready.\n",
              "        channel.send({})\n",
              "        if (message.buffers) {\n",
              "          for (const buffer of message.buffers) {\n",
              "            buffers.push(buffer);\n",
              "            downloaded += buffer.byteLength;\n",
              "            progress.value = downloaded;\n",
              "          }\n",
              "        }\n",
              "      }\n",
              "      const blob = new Blob(buffers, {type: 'application/binary'});\n",
              "      const a = document.createElement('a');\n",
              "      a.href = window.URL.createObjectURL(blob);\n",
              "      a.download = filename;\n",
              "      div.appendChild(a);\n",
              "      a.click();\n",
              "      div.remove();\n",
              "    }\n",
              "  "
            ]
          },
          "metadata": {}
        },
        {
          "output_type": "display_data",
          "data": {
            "text/plain": [
              "<IPython.core.display.Javascript object>"
            ],
            "application/javascript": [
              "download(\"download_16f81cda-eb64-44e1-aa7f-c13ef489c165\", \"segmented_text_dataset.csv\", 821)"
            ]
          },
          "metadata": {}
        }
      ]
    },
    {
      "cell_type": "code",
      "source": [
        "# stemming\n",
        "import nltk\n",
        "from nltk.stem import PorterStemmer\n",
        "from nltk.tokenize import word_tokenize\n",
        "\n",
        "# Download necessary NLTK data\n",
        "nltk.download('punkt')\n",
        "import pandas as pd\n",
        "\n",
        "# Create a sample dataset with text data\n",
        "data = {\n",
        "    'Text': [\n",
        "        \"I am enjoying running in the morning.\",\n",
        "        \"He was the fastest runner in the race.\",\n",
        "        \"They are planning to run a marathon.\",\n",
        "        \"She ran quickly to catch the bus.\"\n",
        "    ]\n",
        "}\n",
        "\n",
        "df = pd.DataFrame(data)\n",
        "\n",
        "# Display the dataset\n",
        "df.head()\n",
        "# Initialize the PorterStemmer\n",
        "ps = PorterStemmer()\n",
        "\n",
        "# Function to apply stemming\n",
        "def stem_words(text):\n",
        "    # Tokenize the text into words\n",
        "    words = word_tokenize(text)\n",
        "    # Stem each word\n",
        "    stemmed_words = [ps.stem(word) for word in words]\n",
        "    # Join the stemmed words back into a single string\n",
        "    return ' '.join(stemmed_words)\n",
        "\n",
        "# Apply the stemming function to the 'Text' column\n",
        "df['Stemmed_Text'] = df['Text'].apply(stem_words)\n",
        "\n",
        "# Display the original and stemmed text\n",
        "df[['Text', 'Stemmed_Text']].head()\n",
        "# Save the stemmed dataset\n",
        "stemmed_file_path = 'stemmed_text_dataset.csv'\n",
        "df.to_csv(stemmed_file_path, index=False)\n",
        "from google.colab import files\n",
        "\n",
        "files.download(stemmed_file_path)"
      ],
      "metadata": {
        "colab": {
          "base_uri": "https://localhost:8080/",
          "height": 52
        },
        "id": "ziNQBQp9gMTL",
        "outputId": "df7bf364-3419-498d-d58f-79bd81a27449"
      },
      "execution_count": null,
      "outputs": [
        {
          "output_type": "stream",
          "name": "stderr",
          "text": [
            "[nltk_data] Downloading package punkt to /root/nltk_data...\n",
            "[nltk_data]   Package punkt is already up-to-date!\n"
          ]
        },
        {
          "output_type": "display_data",
          "data": {
            "text/plain": [
              "<IPython.core.display.Javascript object>"
            ],
            "application/javascript": [
              "\n",
              "    async function download(id, filename, size) {\n",
              "      if (!google.colab.kernel.accessAllowed) {\n",
              "        return;\n",
              "      }\n",
              "      const div = document.createElement('div');\n",
              "      const label = document.createElement('label');\n",
              "      label.textContent = `Downloading \"${filename}\": `;\n",
              "      div.appendChild(label);\n",
              "      const progress = document.createElement('progress');\n",
              "      progress.max = size;\n",
              "      div.appendChild(progress);\n",
              "      document.body.appendChild(div);\n",
              "\n",
              "      const buffers = [];\n",
              "      let downloaded = 0;\n",
              "\n",
              "      const channel = await google.colab.kernel.comms.open(id);\n",
              "      // Send a message to notify the kernel that we're ready.\n",
              "      channel.send({})\n",
              "\n",
              "      for await (const message of channel.messages) {\n",
              "        // Send a message to notify the kernel that we're ready.\n",
              "        channel.send({})\n",
              "        if (message.buffers) {\n",
              "          for (const buffer of message.buffers) {\n",
              "            buffers.push(buffer);\n",
              "            downloaded += buffer.byteLength;\n",
              "            progress.value = downloaded;\n",
              "          }\n",
              "        }\n",
              "      }\n",
              "      const blob = new Blob(buffers, {type: 'application/binary'});\n",
              "      const a = document.createElement('a');\n",
              "      a.href = window.URL.createObjectURL(blob);\n",
              "      a.download = filename;\n",
              "      div.appendChild(a);\n",
              "      a.click();\n",
              "      div.remove();\n",
              "    }\n",
              "  "
            ]
          },
          "metadata": {}
        },
        {
          "output_type": "display_data",
          "data": {
            "text/plain": [
              "<IPython.core.display.Javascript object>"
            ],
            "application/javascript": [
              "download(\"download_e0297c48-be4e-4443-bc6d-104116c2964d\", \"stemmed_text_dataset.csv\", 302)"
            ]
          },
          "metadata": {}
        }
      ]
    }
  ]
}