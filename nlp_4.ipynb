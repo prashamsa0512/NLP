{
  "nbformat": 4,
  "nbformat_minor": 0,
  "metadata": {
    "colab": {
      "provenance": [],
      "authorship_tag": "ABX9TyORujFXC4AgNY9hS4epg7Y7",
      "include_colab_link": true
    },
    "kernelspec": {
      "name": "python3",
      "display_name": "Python 3"
    },
    "language_info": {
      "name": "python"
    }
  },
  "cells": [
    {
      "cell_type": "markdown",
      "metadata": {
        "id": "view-in-github",
        "colab_type": "text"
      },
      "source": [
        "<a href=\"https://colab.research.google.com/github/prashamsa0512/NLP/blob/main/nlp_4.ipynb\" target=\"_parent\"><img src=\"https://colab.research.google.com/assets/colab-badge.svg\" alt=\"Open In Colab\"/></a>"
      ]
    },
    {
      "cell_type": "code",
      "source": [
        "import numpy as np\n",
        "import tensorflow as tf\n",
        "from tensorflow.keras.datasets import mnist\n",
        "from tensorflow.keras.utils import to_categorical\n",
        "from tensorflow.keras.models import Sequential\n",
        "from tensorflow.keras.layers import SimpleRNN, Dense, Flatten\n",
        "\n",
        "# (a) Preprocessing the Data\n",
        "# Load MNIST dataset\n",
        "(x_train, y_train), (x_test, y_test) = mnist.load_data()\n",
        "\n",
        "# Normalize pixel values between 0 and 1\n",
        "x_train = x_train / 255.0\n",
        "x_test = x_test / 255.0\n",
        "\n",
        "# One-hot encode the labels\n",
        "y_train = to_categorical(y_train)\n",
        "y_test = to_categorical(y_test)\n",
        "\n",
        "# (b) Divide data into training and testing dataset\n",
        "# The data is already divided as x_train, y_train for training and x_test, y_test for testing\n",
        "\n",
        "# (c) Build the Recurrent Neural Network (RNN) Model\n",
        "model = Sequential()\n",
        "# Add an RNN layer with 128 units and an input shape of (28, 28) which corresponds to the flattened images\n",
        "model.add(SimpleRNN(128, input_shape=(28, 28), activation='relu'))\n",
        "model.add(Dense(10, activation='softmax'))  # 10 output units for the 10 classes (digits 0-9)\n",
        "\n",
        "# Compile the model\n",
        "model.compile(optimizer='adam', loss='categorical_crossentropy', metrics=['accuracy'])\n",
        "\n",
        "# (d) Train the RNN Model\n",
        "history = model.fit(x_train, y_train, epochs=5, batch_size=64, validation_split=0.1)\n",
        "\n",
        "# (e) Evaluate the Model on the test dataset\n",
        "test_loss, test_acc = model.evaluate(x_test, y_test)\n",
        "print(f\"Test accuracy: {test_acc}\")"
      ],
      "metadata": {
        "colab": {
          "base_uri": "https://localhost:8080/"
        },
        "id": "BqXlj2J_jnpu",
        "outputId": "41aa3b8a-89bd-4461-a420-01fb19c84c3f"
      },
      "execution_count": 2,
      "outputs": [
        {
          "output_type": "stream",
          "name": "stdout",
          "text": [
            "Downloading data from https://storage.googleapis.com/tensorflow/tf-keras-datasets/mnist.npz\n",
            "\u001b[1m11490434/11490434\u001b[0m \u001b[32m━━━━━━━━━━━━━━━━━━━━\u001b[0m\u001b[37m\u001b[0m \u001b[1m0s\u001b[0m 0us/step\n"
          ]
        },
        {
          "output_type": "stream",
          "name": "stderr",
          "text": [
            "/usr/local/lib/python3.10/dist-packages/keras/src/layers/rnn/rnn.py:204: UserWarning: Do not pass an `input_shape`/`input_dim` argument to a layer. When using Sequential models, prefer using an `Input(shape)` object as the first layer in the model instead.\n",
            "  super().__init__(**kwargs)\n"
          ]
        },
        {
          "output_type": "stream",
          "name": "stdout",
          "text": [
            "Epoch 1/5\n",
            "\u001b[1m844/844\u001b[0m \u001b[32m━━━━━━━━━━━━━━━━━━━━\u001b[0m\u001b[37m\u001b[0m \u001b[1m16s\u001b[0m 17ms/step - accuracy: 0.7157 - loss: 0.8295 - val_accuracy: 0.9490 - val_loss: 0.1802\n",
            "Epoch 2/5\n",
            "\u001b[1m844/844\u001b[0m \u001b[32m━━━━━━━━━━━━━━━━━━━━\u001b[0m\u001b[37m\u001b[0m \u001b[1m15s\u001b[0m 17ms/step - accuracy: 0.9402 - loss: 0.2027 - val_accuracy: 0.9598 - val_loss: 0.1417\n",
            "Epoch 3/5\n",
            "\u001b[1m844/844\u001b[0m \u001b[32m━━━━━━━━━━━━━━━━━━━━\u001b[0m\u001b[37m\u001b[0m \u001b[1m18s\u001b[0m 14ms/step - accuracy: 0.9544 - loss: 0.1560 - val_accuracy: 0.9667 - val_loss: 0.1413\n",
            "Epoch 4/5\n",
            "\u001b[1m844/844\u001b[0m \u001b[32m━━━━━━━━━━━━━━━━━━━━\u001b[0m\u001b[37m\u001b[0m \u001b[1m21s\u001b[0m 14ms/step - accuracy: 0.9623 - loss: 0.1366 - val_accuracy: 0.9767 - val_loss: 0.0889\n",
            "Epoch 5/5\n",
            "\u001b[1m844/844\u001b[0m \u001b[32m━━━━━━━━━━━━━━━━━━━━\u001b[0m\u001b[37m\u001b[0m \u001b[1m22s\u001b[0m 16ms/step - accuracy: 0.9662 - loss: 0.1222 - val_accuracy: 0.9690 - val_loss: 0.1048\n",
            "\u001b[1m313/313\u001b[0m \u001b[32m━━━━━━━━━━━━━━━━━━━━\u001b[0m\u001b[37m\u001b[0m \u001b[1m1s\u001b[0m 4ms/step - accuracy: 0.9549 - loss: 0.1491\n",
            "Test accuracy: 0.9617000222206116\n"
          ]
        }
      ]
    },
    {
      "cell_type": "code",
      "source": [
        "import numpy as np\n",
        "import tensorflow as tf\n",
        "import matplotlib.pyplot as plt\n",
        "from tensorflow.keras import Sequential\n",
        "from tensorflow.keras.layers import Dense\n",
        "from tensorflow.keras.optimizers import SGD\n",
        "from tensorflow.keras.callbacks import Callback\n",
        "# Custom callback to record gradients\n",
        "class GradientTracker(Callback):\n",
        "    def on_train_begin(self, logs=None):\n",
        "        self.epoch_gradients = []\n",
        "    def on_epoch_end(self, epoch, logs=None):\n",
        "        # Get the gradients for each layer\n",
        "        weights = self.model.trainable_weights  # Variables of the model\n",
        "        #gradients = self.model.optimizer.get_gradients(self.model.total_loss, weights)\n",
        "        #self.epoch_gradients.append(gradients)\n",
        "# Create a simple deep network to show gradient issues\n",
        "def create_deep_model(activation_function='sigmoid'):\n",
        "    model = Sequential()\n",
        "    # A deep network of 10 hidden layers with 128 neurons each\n",
        "    model.add(Dense(128, input_shape=(10,), activation=activation_function))\n",
        "    for _ in range(9):  # Adding more layers to make the network deep\n",
        "        model.add(Dense(128, activation=activation_function))\n",
        "    model.add(Dense(1))  # Output layer\n",
        "    return model\n",
        "# Generate random data\n",
        "np.random.seed(42)\n",
        "X = np.random.randn(1000, 10)  # 1000 samples with 10 features\n",
        "y = np.random.randn(1000, 1)   # Random target values\n",
        "\n",
        "# Create a deep network using sigmoid (vanishing gradient case)\n",
        "model = create_deep_model(activation_function='sigmoid')\n",
        "\n",
        "# Compile the model using SGD optimizer\n",
        "model.compile(optimizer=SGD(learning_rate=0.01), loss='mean_squared_error')\n",
        "\n",
        "# Instantiate the gradient tracker callback\n",
        "gradient_tracker = GradientTracker()\n",
        "\n",
        "# Train the model and track the gradients\n",
        "history = model.fit(X, y, epochs=10, batch_size=32, verbose=1, callbacks=[gradient_tracker])\n",
        "\n",
        "# Analyze the gradients\n",
        "gradients = gradient_tracker.epoch_gradients\n",
        "\n",
        "# Function to calculate the magnitude of gradients\n",
        "def calculate_gradient_magnitude(gradients):\n",
        "    grad_norms = []\n",
        "    for epoch_grad in gradients:\n",
        "        epoch_norms = []\n",
        "        for grad in epoch_grad:\n",
        "            if grad is not None:\n",
        "                norm = np.linalg.norm(grad.numpy())\n",
        "                epoch_norms.append(norm)\n",
        "        grad_norms.append(np.mean(epoch_norms))\n",
        "    return grad_norms\n",
        "\n",
        "# Calculate the gradient norms for each epoch\n",
        "gradient_magnitudes = calculate_gradient_magnitude(gradients)\n",
        "\n",
        "# Plot the gradient norms over epochs\n",
        "plt.plot(range(1, len(gradient_magnitudes) + 1), gradient_magnitudes, label=\"Gradient Magnitude\")\n",
        "plt.title(\"Gradient Magnitude over Epochs (Vanishing Gradients)\")\n",
        "plt.xlabel(\"Epoch\")\n",
        "plt.ylabel(\"Gradient Magnitude\")\n",
        "plt.legend()\n",
        "plt.show()"
      ],
      "metadata": {
        "colab": {
          "base_uri": "https://localhost:8080/",
          "height": 874
        },
        "id": "vAMrGr4Crtjt",
        "outputId": "5638efb1-d43a-43f3-e6a2-eb2ca55815bb"
      },
      "execution_count": 3,
      "outputs": [
        {
          "output_type": "stream",
          "name": "stderr",
          "text": [
            "/usr/local/lib/python3.10/dist-packages/keras/src/layers/core/dense.py:87: UserWarning: Do not pass an `input_shape`/`input_dim` argument to a layer. When using Sequential models, prefer using an `Input(shape)` object as the first layer in the model instead.\n",
            "  super().__init__(activity_regularizer=activity_regularizer, **kwargs)\n"
          ]
        },
        {
          "output_type": "stream",
          "name": "stdout",
          "text": [
            "Epoch 1/10\n",
            "\u001b[1m32/32\u001b[0m \u001b[32m━━━━━━━━━━━━━━━━━━━━\u001b[0m\u001b[37m\u001b[0m \u001b[1m1s\u001b[0m 3ms/step - loss: 0.9663\n",
            "Epoch 2/10\n",
            "\u001b[1m32/32\u001b[0m \u001b[32m━━━━━━━━━━━━━━━━━━━━\u001b[0m\u001b[37m\u001b[0m \u001b[1m0s\u001b[0m 4ms/step - loss: 0.9880\n",
            "Epoch 3/10\n",
            "\u001b[1m32/32\u001b[0m \u001b[32m━━━━━━━━━━━━━━━━━━━━\u001b[0m\u001b[37m\u001b[0m \u001b[1m0s\u001b[0m 5ms/step - loss: 0.9562\n",
            "Epoch 4/10\n",
            "\u001b[1m32/32\u001b[0m \u001b[32m━━━━━━━━━━━━━━━━━━━━\u001b[0m\u001b[37m\u001b[0m \u001b[1m0s\u001b[0m 6ms/step - loss: 0.9584\n",
            "Epoch 5/10\n",
            "\u001b[1m32/32\u001b[0m \u001b[32m━━━━━━━━━━━━━━━━━━━━\u001b[0m\u001b[37m\u001b[0m \u001b[1m0s\u001b[0m 6ms/step - loss: 0.9344\n",
            "Epoch 6/10\n",
            "\u001b[1m32/32\u001b[0m \u001b[32m━━━━━━━━━━━━━━━━━━━━\u001b[0m\u001b[37m\u001b[0m \u001b[1m0s\u001b[0m 5ms/step - loss: 1.0216\n",
            "Epoch 7/10\n",
            "\u001b[1m32/32\u001b[0m \u001b[32m━━━━━━━━━━━━━━━━━━━━\u001b[0m\u001b[37m\u001b[0m \u001b[1m0s\u001b[0m 6ms/step - loss: 0.8679\n",
            "Epoch 8/10\n",
            "\u001b[1m32/32\u001b[0m \u001b[32m━━━━━━━━━━━━━━━━━━━━\u001b[0m\u001b[37m\u001b[0m \u001b[1m0s\u001b[0m 8ms/step - loss: 0.9603\n",
            "Epoch 9/10\n",
            "\u001b[1m32/32\u001b[0m \u001b[32m━━━━━━━━━━━━━━━━━━━━\u001b[0m\u001b[37m\u001b[0m \u001b[1m1s\u001b[0m 6ms/step - loss: 0.9619\n",
            "Epoch 10/10\n",
            "\u001b[1m32/32\u001b[0m \u001b[32m━━━━━━━━━━━━━━━━━━━━\u001b[0m\u001b[37m\u001b[0m \u001b[1m0s\u001b[0m 10ms/step - loss: 0.9541\n"
          ]
        },
        {
          "output_type": "display_data",
          "data": {
            "text/plain": [
              "<Figure size 640x480 with 1 Axes>"
            ],
            "image/png": "[encoded data removed]"
          },
          "metadata": {}
        }
      ]
    }
  ]
}